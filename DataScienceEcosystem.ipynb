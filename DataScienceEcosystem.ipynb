{
 "cells": [
  {
   "cell_type": "markdown",
   "id": "91122be7",
   "metadata": {},
   "source": [
    "<h1> Data Science Tools and Ecosystem"
   ]
  },
  {
   "cell_type": "markdown",
   "id": "01435b13",
   "metadata": {},
   "source": [
    "In this notebook, Data Science Tools and Ecosystem are summarized."
   ]
  },
  {
   "cell_type": "markdown",
   "id": "720d8305",
   "metadata": {},
   "source": [
    "Some of the popular languages that Data Scientists use are: <br>\n",
    "1.Python <br>\n",
    "2.R <br>\n",
    "3.Java <br>\n",
    "4.C++"
   ]
  },
  {
   "cell_type": "markdown",
   "id": "cde68742",
   "metadata": {},
   "source": [
    "Some of the commonly used libraries used by Data Scientists include: <br>\n",
    "1.Pandas <br>\n",
    "2.Numpy <br>\n",
    "3.Matplotlib <br>\n",
    "4.Seaborn <br>\n",
    "5.ggplot"
   ]
  },
  {
   "cell_type": "markdown",
   "id": "a0ad6182",
   "metadata": {},
   "source": [
    "|Data Science Tools|\n",
    "|------------------|\n",
    "|RStudio|\n",
    "|Apache Spark|\n",
    "|TensorFlow|\n"
   ]
  },
  {
   "cell_type": "markdown",
   "id": "0b7435a9",
   "metadata": {},
   "source": [
    "<H3> Below are a few examples of evaluating arithmetic expressions in Python"
   ]
  },
  {
   "cell_type": "code",
   "execution_count": 1,
   "id": "75ee9bc0",
   "metadata": {},
   "outputs": [
    {
     "data": {
      "text/plain": [
       "17"
      ]
     },
     "execution_count": 1,
     "metadata": {},
     "output_type": "execute_result"
    }
   ],
   "source": [
    "#This a simple arithmetic expression to mutiply then add integers\n",
    "(3*4)+5"
   ]
  },
  {
   "cell_type": "code",
   "execution_count": 2,
   "id": "aace7822",
   "metadata": {},
   "outputs": [
    {
     "data": {
      "text/plain": [
       "3.3333333333333335"
      ]
     },
     "execution_count": 2,
     "metadata": {},
     "output_type": "execute_result"
    }
   ],
   "source": [
    "#This will convert 200 minutes to hours by diving by 60\n",
    "200/60"
   ]
  },
  {
   "cell_type": "markdown",
   "id": "279a8420",
   "metadata": {},
   "source": [
    "### Objectives:\n",
    "#### List popular languages for Data Science\n",
    "1.Python <br>\n",
    "2.R <br>\n",
    "3.Java <br>\n",
    "4.C++ <br>\n",
    "5.Pandas <br>\n",
    "6.Numpy <br>\n",
    "7.Matplotlib <br>\n",
    "8.Seaborn <br>\n",
    "9.ggplot <br>\n",
    "10.RStudio <br>\n",
    "11.Apache Spark <br>\n",
    "12.TensorFlow"
   ]
  },
  {
   "cell_type": "markdown",
   "id": "8a4e4b39",
   "metadata": {},
   "source": [
    "<H2> Author </h2><br>\n",
    "    Sachintha"
   ]
  },
  {
   "cell_type": "code",
   "execution_count": null,
   "id": "8d9610ba",
   "metadata": {},
   "outputs": [],
   "source": []
  }
 ],
 "metadata": {
  "kernelspec": {
   "display_name": "Python 3 (ipykernel)",
   "language": "python",
   "name": "python3"
  },
  "language_info": {
   "codemirror_mode": {
    "name": "ipython",
    "version": 3
   },
   "file_extension": ".py",
   "mimetype": "text/x-python",
   "name": "python",
   "nbconvert_exporter": "python",
   "pygments_lexer": "ipython3",
   "version": "3.11.4"
  }
 },
 "nbformat": 4,
 "nbformat_minor": 5
}
